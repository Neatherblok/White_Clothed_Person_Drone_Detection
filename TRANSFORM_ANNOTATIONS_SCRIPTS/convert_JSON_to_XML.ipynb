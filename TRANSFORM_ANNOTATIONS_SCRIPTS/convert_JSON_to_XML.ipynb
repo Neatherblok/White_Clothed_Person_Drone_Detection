{
 "cells": [
  {
   "cell_type": "markdown",
   "id": "4bc8facc",
   "metadata": {},
   "source": [
    "## Import dependencies and file"
   ]
  },
  {
   "cell_type": "code",
   "execution_count": 1,
   "id": "68664434",
   "metadata": {},
   "outputs": [],
   "source": [
    "import pandas as pd\n",
    "import shutil\n",
    "import xml.etree.ElementTree as gfg"
   ]
  },
  {
   "cell_type": "code",
   "execution_count": 2,
   "id": "75359abb",
   "metadata": {},
   "outputs": [],
   "source": [
    "df = pd.read_json (r'C:\\Users\\rdede\\Documents\\GitHub\\Drone_Training\\Data\\Au-Air\\annotations.json', lines=True)"
   ]
  },
  {
   "cell_type": "markdown",
   "id": "1bf3bd63",
   "metadata": {},
   "source": [
    "## Specify XML format"
   ]
  },
  {
   "cell_type": "code",
   "execution_count": 3,
   "id": "8852c18c",
   "metadata": {},
   "outputs": [],
   "source": [
    "ids = ['human', 'car', 'truck', 'van', 'motorcycle', 'bicycle', 'bus', 'trailer']"
   ]
  },
  {
   "cell_type": "code",
   "execution_count": 4,
   "id": "da180e75",
   "metadata": {},
   "outputs": [],
   "source": [
    "def GenerateXML(ind):\n",
    "    \n",
    "    fileName = df['image_name'][ind]\n",
    "    XMLName = \"annotations/\" + fileName[:-4] + \".xml\"\n",
    "    \n",
    "    root = gfg.Element(\"annotation\")\n",
    "    \n",
    "    m1 = gfg.Element(\"filename\")\n",
    "    m1.text = fileName\n",
    "    root.append(m1)\n",
    "    \n",
    "    m2 = gfg.Element(\"source\")\n",
    "    root.append (m2)\n",
    "    \n",
    "    b1 = gfg.SubElement(m2, \"database\")\n",
    "    b1.text = f\"{df[df.columns[3]][ind]}\"\n",
    "    \n",
    "    m3 = gfg.Element(\"size\")\n",
    "    root.append (m3)\n",
    "    \n",
    "    b1 = gfg.SubElement(m3, \"width\")\n",
    "    b1.text = f\"{df[df.columns[1]][ind]}\"\n",
    "    b2 = gfg.SubElement(m3, \"height\")\n",
    "    b2.text = f\"{df[df.columns[2]][ind]}\"\n",
    "    b3 = gfg.SubElement(m3, \"depth\")\n",
    "    b3.text = \"3\"\n",
    "    \n",
    "    for id in range(len(df['bbox'][ind])):\n",
    "        category = ids[df['bbox'][ind].copy().pop(id).get('class')]\n",
    "        \n",
    "        globals()[f\"m{id}\"] = gfg.Element(\"object\")\n",
    "        root.append (globals()[f\"m{id}\"])\n",
    "\n",
    "        b1 = gfg.SubElement(globals()[f\"m{id}\"], \"name\")\n",
    "        b1.text = f\"{category}\"\n",
    "        b2 = gfg.SubElement(globals()[f\"m{id}\"], \"truncated\")\n",
    "        b2.text = \"0\"\n",
    "        b3 = gfg.SubElement(globals()[f\"m{id}\"], \"bndbox\")\n",
    "        bb1 = gfg.SubElement(b3, \"xmin\")\n",
    "        bb1.text = f\"{df['bbox'][ind].copy().pop(id).get('left')}\"\n",
    "        bb2 = gfg.SubElement(b3, \"ymin\")\n",
    "        bb2.text = f\"{df['bbox'][ind].copy().pop(id).get('top')}\"\n",
    "        bb3 = gfg.SubElement(b3, \"xmax\")\n",
    "        bb3.text = f\"{df['bbox'][ind].copy().pop(id).get('left') + df['bbox'][ind].copy().pop(id).get('width')}\"\n",
    "        bb4 = gfg.SubElement(b3, \"ymax\")\n",
    "        bb4.text = f\"{df['bbox'][ind].copy().pop(id).get('top') + df['bbox'][ind].copy().pop(id).get('height')}\"\n",
    "    \n",
    "    tree = gfg.ElementTree(root)\n",
    "    \n",
    "    with open (XMLName, \"wb\") as files :\n",
    "        tree.write(files)"
   ]
  },
  {
   "cell_type": "markdown",
   "id": "09bda609",
   "metadata": {},
   "source": [
    "## Activate script"
   ]
  },
  {
   "cell_type": "code",
   "execution_count": 5,
   "id": "00a207f1",
   "metadata": {},
   "outputs": [],
   "source": [
    "for ind in df.index:\n",
    "    GenerateXML(ind)"
   ]
  }
 ],
 "metadata": {
  "kernelspec": {
   "display_name": "Python 3 (ipykernel)",
   "language": "python",
   "name": "python3"
  },
  "language_info": {
   "codemirror_mode": {
    "name": "ipython",
    "version": 3
   },
   "file_extension": ".py",
   "mimetype": "text/x-python",
   "name": "python",
   "nbconvert_exporter": "python",
   "pygments_lexer": "ipython3",
   "version": "3.9.7"
  }
 },
 "nbformat": 4,
 "nbformat_minor": 5
}
