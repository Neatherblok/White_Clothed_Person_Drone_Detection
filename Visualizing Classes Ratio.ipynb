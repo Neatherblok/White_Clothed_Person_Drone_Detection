{
 "cells": [
  {
   "cell_type": "markdown",
   "id": "b99ad60a",
   "metadata": {},
   "source": [
    "## Import dependecies"
   ]
  },
  {
   "cell_type": "code",
   "execution_count": null,
   "id": "729ed1a3",
   "metadata": {},
   "outputs": [],
   "source": [
    "import os\n",
    "import shutil\n",
    "import numpy as np\n",
    "import matplotlib.pyplot as plt"
   ]
  },
  {
   "cell_type": "markdown",
   "id": "28f206fc",
   "metadata": {},
   "source": [
    "## Calculate Appearances of Classes"
   ]
  },
  {
   "cell_type": "code",
   "execution_count": null,
   "id": "718cb7f6",
   "metadata": {},
   "outputs": [],
   "source": [
    "white_clothed = 0\n",
    "other_clothed = 0\n",
    "rest = 0"
   ]
  },
  {
   "cell_type": "code",
   "execution_count": null,
   "id": "c2847386",
   "metadata": {},
   "outputs": [],
   "source": [
    "labeled_path = './data/labels/classified_humans'\n",
    "rest_path = './data/labels/rest1'\n",
    "\n",
    "labeled_files = os.listdir(labeled_path)\n",
    "rest_files = os.listdir(rest_path)\n",
    "\n",
    "\n",
    "for f in labeled_files:\n",
    "    if f.endswith('.txt') and f != 'classes.txt':\n",
    "        if os.stat(f'{labeled_path}/{f}').st_size != 0:\n",
    "            with open(f'{labeled_path}/{f}') as text:\n",
    "                inhoud=text.readlines()\n",
    "            for line in inhoud:\n",
    "                print(line[0])\n",
    "                first_char = line[0]\n",
    "                if first_char == \"0\":\n",
    "                    white_clothed = white_clothed + 1\n",
    "                elif first_char == \"1\":\n",
    "                    other_clothed = other_clothed + 1\n",
    "        else:\n",
    "            rest = rest + 1"
   ]
  },
  {
   "cell_type": "code",
   "execution_count": null,
   "id": "e99dae9b",
   "metadata": {},
   "outputs": [],
   "source": [
    "print(white_clothed*2)\n",
    "print(other_clothed*2)"
   ]
  },
  {
   "cell_type": "markdown",
   "id": "bf3d7aaf",
   "metadata": {},
   "source": [
    "## V"
   ]
  },
  {
   "cell_type": "code",
   "execution_count": null,
   "id": "a74676e8",
   "metadata": {},
   "outputs": [],
   "source": [
    "# creating the dataset\n",
    "data = {'Witte Kleur Kleding':white_clothed*2, 'Overige Kleur Kleding':other_clothed*2, 'Geen Personen':rest*2}\n",
    "clothing_kind = list(data.keys())\n",
    "values = list(data.values())\n",
    "  \n",
    "fig = plt.figure(figsize = (10, 5))\n",
    " \n",
    "# creating the bar plot\n",
    "plt.bar(clothing_kind, values, width = 0.4)\n",
    " \n",
    "plt.xlabel(\"Kledingkleur Categorie\")\n",
    "plt.ylabel(\"Hoeveelheid Data per Kleur Categorie\")\n",
    "plt.title(\"Verhouding Hoeveelheid Mensen per Kledingkleur Eigenschappen en Overige Afbeeldingen Na Data Preparatie\")\n",
    "plt.show()"
   ]
  }
 ],
 "metadata": {
  "kernelspec": {
   "display_name": "Python 3 (ipykernel)",
   "language": "python",
   "name": "python3"
  },
  "language_info": {
   "codemirror_mode": {
    "name": "ipython",
    "version": 3
   },
   "file_extension": ".py",
   "mimetype": "text/x-python",
   "name": "python",
   "nbconvert_exporter": "python",
   "pygments_lexer": "ipython3",
   "version": "3.9.7"
  }
 },
 "nbformat": 4,
 "nbformat_minor": 5
}
