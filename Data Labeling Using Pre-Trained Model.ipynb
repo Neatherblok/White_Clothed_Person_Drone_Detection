{
 "cells": [
  {
   "cell_type": "markdown",
   "id": "7d4f8eeb",
   "metadata": {},
   "source": [
    "## Import dependencies"
   ]
  },
  {
   "cell_type": "code",
   "execution_count": null,
   "id": "137d6f71",
   "metadata": {},
   "outputs": [],
   "source": [
    "# import torch\n",
    "from matplotlib import pyplot as plt\n",
    "import numpy as np\n",
    "import cv2\n",
    "import os\n",
    "from pathlib import Path\n",
    "from skimage.color import rgb2hsv\n",
    "from PIL import Image\n",
    "from numpy import asarray, save\n",
    "from sklearn import preprocessing"
   ]
  },
  {
   "cell_type": "code",
   "execution_count": null,
   "id": "6dfce509",
   "metadata": {},
   "outputs": [],
   "source": [
    "# load pre-trained model from specified location for faster labeling\n",
    "model = torch.hub.load('ultralytics/yolov5', 'custom', path=os.path.join(\"yolov5\", \"runs\", \"train\", \"exp(mAP.5:.05:.95)\", \"weights\", \"best.pt\"), force_reload=True)"
   ]
  },
  {
   "cell_type": "code",
   "execution_count": null,
   "id": "ba6df549",
   "metadata": {},
   "outputs": [],
   "source": [
    "# Specify images and labels path\n",
    "new_images_path = os.path.join('new_label_data', 'images')\n",
    "new_labels_path = os.path.join('new_label_data', 'labels')"
   ]
  },
  {
   "cell_type": "markdown",
   "id": "930e0b23",
   "metadata": {},
   "source": [
    "## Use pre-trained model to annotate images"
   ]
  },
  {
   "cell_type": "code",
   "execution_count": null,
   "id": "caf6f553",
   "metadata": {},
   "outputs": [],
   "source": [
    "# Function to get predicted label & bounding box coordinates back from model\n",
    "\n",
    "def get_yolo_annotations(fil):\n",
    "    \n",
    "    im = cv2.imread(fil)\n",
    "    \n",
    "    h, w, _ = im.shape\n",
    "    \n",
    "    results=model(im)\n",
    "    results = results.pandas().xyxy[0]\n",
    "    results.drop(['confidence', 'name'], axis=1, inplace=True)\n",
    "    results[\"width\"]  = (results[\"xmax\"] - results[\"xmin\"])/w\n",
    "    results[\"height\"] = (results[\"ymax\"] - results[\"ymin\"])/h\n",
    "    results[\"x\"] = (results[\"xmin\"] + ((results[\"xmax\"] - results[\"xmin\"])/2))/w\n",
    "    results[\"y\"] = (results[\"ymin\"] + ((results[\"ymax\"] - results[\"ymin\"])/2))/h\n",
    "    results = results[[\"class\", \"x\", \"y\", \"width\", \"height\"]]\n",
    "    \n",
    "    return results"
   ]
  },
  {
   "cell_type": "code",
   "execution_count": null,
   "id": "3e853b49",
   "metadata": {},
   "outputs": [],
   "source": [
    "# Predicting objects for every image that needs to be labeled\n",
    "# Saving results according to YOLO format in labels folder\n",
    "\n",
    "for fil in new_images_path.glob(\"*.jpg\"):\n",
    "    \n",
    "    annotations = get_yolo_annotations(fil)\n",
    "    \n",
    "    new_label_file = \".\\\\\" + str(new_labels_path) + \"\\\\\" + fil.stem + \".txt\"\n",
    "    new_image_file = \".\\\\\" + str(fil)\n",
    "    \n",
    "    print(annotations.values)\n",
    "    \n",
    "    annotations.to_csv(new_label_file, header=None, index=None, sep=' ', mode='a', float_format='%.6f')"
   ]
  },
  {
   "cell_type": "markdown",
   "id": "be14523d",
   "metadata": {},
   "source": [
    "## Opening LabelImg, an annotation program"
   ]
  },
  {
   "cell_type": "code",
   "execution_count": null,
   "id": "fecec80b",
   "metadata": {},
   "outputs": [],
   "source": [
    "!labelImg"
   ]
  }
 ],
 "metadata": {
  "kernelspec": {
   "display_name": "yolo",
   "language": "python",
   "name": "yolo"
  },
  "language_info": {
   "codemirror_mode": {
    "name": "ipython",
    "version": 3
   },
   "file_extension": ".py",
   "mimetype": "text/x-python",
   "name": "python",
   "nbconvert_exporter": "python",
   "pygments_lexer": "ipython3",
   "version": "3.10.0"
  }
 },
 "nbformat": 4,
 "nbformat_minor": 5
}
