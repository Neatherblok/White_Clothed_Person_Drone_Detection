{
 "cells": [
  {
   "cell_type": "code",
   "execution_count": null,
   "id": "acbbf9df",
   "metadata": {},
   "outputs": [],
   "source": [
    "\"\"\"\n",
    "    Import all the required libraries to be able to classify humans \n",
    "    spotted on images into the right class.\n",
    "    \n",
    "\"\"\"\n",
    "\n",
    "from astral import LocationInfo\n",
    "from astral.sun import sun\n",
    "from datetime import datetime\n",
    "import pytz\n",
    "import torch\n",
    "from matplotlib import pyplot as plt\n",
    "import numpy as np\n",
    "import cv2\n",
    "import os\n",
    "from PIL import Image, ExifTags"
   ]
  },
  {
   "cell_type": "code",
   "execution_count": 4,
   "id": "a991be3b",
   "metadata": {},
   "outputs": [
    {
     "name": "stderr",
     "output_type": "stream",
     "text": [
      "Downloading: \"https://github.com/ultralytics/yolov5/archive/master.zip\" to C:\\Users\\rdede/.cache\\torch\\hub\\master.zip\n",
      "YOLOv5  2022-5-12 torch 1.11.0+cpu CPU\n",
      "\n",
      "Fusing layers... \n",
      "Model summary: 213 layers, 7015519 parameters, 0 gradients\n",
      "Adding AutoShape... \n"
     ]
    }
   ],
   "source": [
    "\"\"\"\n",
    "    Load the most recent version of the YOLOv5 model. This model gets used to predict\n",
    "    humans who are visible within the photo: img.\n",
    "    \n",
    "\"\"\"\n",
    "\n",
    "model = torch.hub.load('ultralytics/yolov5', 'custom', \n",
    "                            path=os.path.join(\"yolov5\",\"runs\",\"train\",\"exp30\",\"weights\",\"best.pt\"), force_reload=True)\n",
    "img = os.path.join(\"C\",\"Users\",\"rdede\", \"Downloads\", \"0000103_02544_d_0000029.jpg\")\n",
    "results=model(img)"
   ]
  },
  {
   "cell_type": "code",
   "execution_count": 2,
   "id": "d5454e22",
   "metadata": {},
   "outputs": [
    {
     "name": "stdout",
     "output_type": "stream",
     "text": [
      "Dawn:    2022-05-12 05:07:32.934710+02:00\n",
      "Sunrise: 2022-05-12 05:50:15.171836+02:00\n",
      "Noon:    2022-05-12 13:36:47+02:00\n",
      "Sunset:  2022-05-12 21:24:20.148728+02:00\n",
      "Dusk:    2022-05-12 22:07:20.489627+02:00\n",
      "\n"
     ]
    }
   ],
   "source": [
    "\"\"\"\n",
    "    Making variables which are necessary to classify humans correctly based on time and location.\n",
    "    \n",
    "    --------\n",
    "    \n",
    "    city - Location information, which gives back the timezone and coordinates.\n",
    "    s - Sun information, gives back the position of the sun and what times rise and dawn are.\n",
    "    created_datetime - Picture information, gives back the time the photo has been created.\n",
    "                        *if pictures don't have relevant metadata, current time is used*\n",
    "    image - Read and converted image into Numpy Array.\n",
    "    exif_data - Image metadata, gives back all the metadata included with the image.\n",
    "    \n",
    "\"\"\"\n",
    "\n",
    "city = LocationInfo(\"Amsterdam\", \"Netherlands\", \"Europe/Amsterdam\", 52.378, 4.897)\n",
    "s = sun(city.observer, date=datetime.date.today(), tzinfo=pytz.timezone(city.timezone))\n",
    "created_datetime = datetime.now(pytz.timezone(city.timezone))\n",
    "image = Image.open(img)\n",
    "exif_data = image._getexif()\n",
    "\n",
    "for key, val in exif_data.items():\n",
    "    if key == 36868:\n",
    "        created_datetime = val\n",
    "        created_datetime = datetime.strptime(created_datetime, '%Y:%m:%d %H:%M:%S')\n",
    "        tz = pytz.timezone(city.timezone)\n",
    "        created_datetime = created_datetime.replace(tzinfo=tz)"
   ]
  },
  {
   "cell_type": "code",
   "execution_count": 10,
   "id": "202b7787",
   "metadata": {},
   "outputs": [
    {
     "name": "stdout",
     "output_type": "stream",
     "text": [
      "It's nighttime\n",
      "It's nighttime\n",
      "It's nighttime\n",
      "It's nighttime\n",
      "It's nighttime\n"
     ]
    },
    {
     "data": {
      "text/plain": [
       "-1"
      ]
     },
     "execution_count": 10,
     "metadata": {},
     "output_type": "execute_result"
    }
   ],
   "source": [
    "\"\"\"\n",
    "    Showing the image with it's bounding boxes. Around the bounding box, the class \n",
    "    of the person is given.\n",
    "    \n",
    "    --------\n",
    "    \n",
    "    During daytime:\n",
    "      - People who are detected and classified as authorised are shown as authorised.\n",
    "      - People who are detected and classified as non-authorised are shown as authorised.\n",
    "     \n",
    "     During nighttime:\n",
    "      - People who are detected and classified as authorised are shown as authorised.\n",
    "      - People who are detected and classified as non-authorised as shown as non-authorised.\n",
    "    \n",
    "\"\"\"\n",
    "\n",
    "for box in results.xyxy[0]: \n",
    "\n",
    "    xB = int(box[2])\n",
    "    xA = int(box[0])\n",
    "    yB = int(box[3])\n",
    "    yA = int(box[1])\n",
    "    \n",
    "    image = cv2.rectangle(image, (xA, yA), (xB, yB), (255, 0, 0), 2)\n",
    "\n",
    "    if (created_datetime > s['sunset'] or created_datetime < s['sunrise']):\n",
    "        print(\"It's nighttime\")\n",
    "        if int(box[5]) == 1:\n",
    "            org = (xA,yA-10)\n",
    "            image = cv2.putText(image, 'Not Authorised', org, cv2.FONT_HERSHEY_COMPLEX, 1, (255, 255, 255), 2, cv2.LINE_AA)\n",
    "        if int(box[5]) == 0:\n",
    "            org = (xA,yA-10)\n",
    "            image = cv2.putText(image, 'Authorised', org, cv2.FONT_HERSHEY_COMPLEX, 1, (255, 255, 255), 2, cv2.LINE_AA)\n",
    "        \n",
    "    else:\n",
    "        print(\"It's daytime\")\n",
    "        org = (xA,yA-10)\n",
    "        image = cv2.putText(image, 'Authorised', org, cv2.FONT_HERSHEY_COMPLEX, 1, (255, 255, 255), 2, cv2.LINE_AA)\n",
    "        \n",
    "image = cv2.resize(image, (960, 540))\n",
    "cv2.imshow(\"YOLO\", image)\n",
    "cv2.waitKey(0)"
   ]
  }
 ],
 "metadata": {
  "kernelspec": {
   "display_name": "Python 3 (ipykernel)",
   "language": "python",
   "name": "python3"
  },
  "language_info": {
   "codemirror_mode": {
    "name": "ipython",
    "version": 3
   },
   "file_extension": ".py",
   "mimetype": "text/x-python",
   "name": "python",
   "nbconvert_exporter": "python",
   "pygments_lexer": "ipython3",
   "version": "3.10.0"
  }
 },
 "nbformat": 4,
 "nbformat_minor": 5
}
